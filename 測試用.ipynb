{
 "cells": [
  {
   "cell_type": "code",
   "execution_count": 62,
   "id": "660474a4",
   "metadata": {},
   "outputs": [],
   "source": [
    "import tkinter as tk\n",
    "import sqlite3\n",
    "from PIL import ImageTk, Image\n",
    "import pandas as pd\n",
    "from datetime import datetime\n",
    "from bs4 import BeautifulSoup\n",
    "from selenium import webdriver\n",
    "from selenium.webdriver.common.by import By\n",
    "import os\n",
    "import matplotlib.pyplot as plt\n",
    "import time"
   ]
  },
  {
   "cell_type": "code",
   "execution_count": 93,
   "id": "2de0e59e",
   "metadata": {},
   "outputs": [
    {
     "name": "stdout",
     "output_type": "stream",
     "text": [
      "0 2019\n",
      "OK\n",
      "1 2019\n",
      "OK\n",
      "2 2019\n"
     ]
    },
    {
     "ename": "IndexError",
     "evalue": "index 0 is out of bounds for axis 0 with size 0",
     "output_type": "error",
     "traceback": [
      "\u001b[1;31m---------------------------------------------------------------------------\u001b[0m",
      "\u001b[1;31mIndexError\u001b[0m                                Traceback (most recent call last)",
      "\u001b[1;32m<ipython-input-93-9620d3482ae9>\u001b[0m in \u001b[0;36m<module>\u001b[1;34m\u001b[0m\n\u001b[0;32m     33\u001b[0m \u001b[1;33m\u001b[0m\u001b[0m\n\u001b[0;32m     34\u001b[0m         \u001b[1;31m#print(today_month,count_years)\u001b[0m\u001b[1;33m\u001b[0m\u001b[1;33m\u001b[0m\u001b[1;33m\u001b[0m\u001b[0m\n\u001b[1;32m---> 35\u001b[1;33m         \u001b[0mstock_price\u001b[0m\u001b[1;33m=\u001b[0m\u001b[0mstock\u001b[0m\u001b[1;33m.\u001b[0m\u001b[0mloc\u001b[0m\u001b[1;33m[\u001b[0m\u001b[1;34mf'{count_years+i}-{today_month}-5'\u001b[0m\u001b[1;33m:\u001b[0m\u001b[1;33m]\u001b[0m\u001b[1;33m[\u001b[0m\u001b[1;34m'Close'\u001b[0m\u001b[1;33m]\u001b[0m\u001b[1;33m[\u001b[0m\u001b[1;36m0\u001b[0m\u001b[1;33m]\u001b[0m\u001b[1;33m.\u001b[0m\u001b[0mround\u001b[0m\u001b[1;33m(\u001b[0m\u001b[1;36m2\u001b[0m\u001b[1;33m)\u001b[0m  \u001b[1;31m##5號購買\u001b[0m\u001b[1;33m\u001b[0m\u001b[1;33m\u001b[0m\u001b[0m\n\u001b[0m\u001b[0;32m     36\u001b[0m         \u001b[0mtotal\u001b[0m\u001b[1;33m+=\u001b[0m\u001b[1;36m3000\u001b[0m   \u001b[1;31m##3000元\u001b[0m\u001b[1;33m\u001b[0m\u001b[1;33m\u001b[0m\u001b[0m\n\u001b[0;32m     37\u001b[0m         \u001b[0mpcs\u001b[0m\u001b[1;33m=\u001b[0m\u001b[0mtotal\u001b[0m\u001b[1;33m//\u001b[0m\u001b[0mstock_price\u001b[0m\u001b[1;33m\u001b[0m\u001b[1;33m\u001b[0m\u001b[0m\n",
      "\u001b[1;32mC:\\ProgramData\\Anaconda3\\lib\\site-packages\\pandas\\core\\series.py\u001b[0m in \u001b[0;36m__getitem__\u001b[1;34m(self, key)\u001b[0m\n\u001b[0;32m    848\u001b[0m \u001b[1;33m\u001b[0m\u001b[0m\n\u001b[0;32m    849\u001b[0m         \u001b[1;32mif\u001b[0m \u001b[0mis_integer\u001b[0m\u001b[1;33m(\u001b[0m\u001b[0mkey\u001b[0m\u001b[1;33m)\u001b[0m \u001b[1;32mand\u001b[0m \u001b[0mself\u001b[0m\u001b[1;33m.\u001b[0m\u001b[0mindex\u001b[0m\u001b[1;33m.\u001b[0m\u001b[0m_should_fallback_to_positional\u001b[0m\u001b[1;33m(\u001b[0m\u001b[1;33m)\u001b[0m\u001b[1;33m:\u001b[0m\u001b[1;33m\u001b[0m\u001b[1;33m\u001b[0m\u001b[0m\n\u001b[1;32m--> 850\u001b[1;33m             \u001b[1;32mreturn\u001b[0m \u001b[0mself\u001b[0m\u001b[1;33m.\u001b[0m\u001b[0m_values\u001b[0m\u001b[1;33m[\u001b[0m\u001b[0mkey\u001b[0m\u001b[1;33m]\u001b[0m\u001b[1;33m\u001b[0m\u001b[1;33m\u001b[0m\u001b[0m\n\u001b[0m\u001b[0;32m    851\u001b[0m \u001b[1;33m\u001b[0m\u001b[0m\n\u001b[0;32m    852\u001b[0m         \u001b[1;32melif\u001b[0m \u001b[0mkey_is_scalar\u001b[0m\u001b[1;33m:\u001b[0m\u001b[1;33m\u001b[0m\u001b[1;33m\u001b[0m\u001b[0m\n",
      "\u001b[1;31mIndexError\u001b[0m: index 0 is out of bounds for axis 0 with size 0"
     ]
    }
   ],
   "source": [
    "\n",
    "try:\n",
    "    with sqlite3.connect('stock.db') as con:             \n",
    "        df=pd.read_sql_query('select * from \"deposit\"',con=con)         \n",
    "        stock=pd.read_sql_query(f'select * from \"2356\"',con=con)\n",
    "except Exception as e:\n",
    "    print(e)\n",
    "\n",
    "for value in df['除息日'].values:\n",
    "    if '即將除息' in value:\n",
    "        df=df.replace(value,value[0:-4])\n",
    "    if '今日除息' in value:\n",
    "        df=df.replace(value,value[0:-4])\n",
    "df.index=pd.to_datetime(df['除息日'],yearfirst=True)\n",
    "stock.index=pd.to_datetime(stock['date'])\n",
    "    \n",
    "today_year=datetime.today().strftime('%Y-%m-%d')[0:4]   ##今年\n",
    "today_month=1##int(datetime.today().strftime('%Y-%m-%d')[5:7])  ##今月\n",
    "count_years=int(today_year)-3   ##買進3年\n",
    "\n",
    "\n",
    "stock_gain=[]\n",
    "stock_pcs=[]\n",
    "stock_money=[]\n",
    "total=0\n",
    "    \n",
    "for i in range(3):\n",
    "    print(i,count_years)\n",
    "    for k in range(12):\n",
    "              \n",
    "        if today_month>=13:\n",
    "            today_month=1\n",
    "            count_years+=1\n",
    "            \n",
    "        #print(today_month,count_years)\n",
    "        stock_price=stock.loc[f'{count_years+i}-{today_month}-5':]['Close'][0].round(2)  ##5號購買\n",
    "        total+=3000   ##3000元\n",
    "        pcs=total//stock_price\n",
    "        cost=stock_price*pcs\n",
    "        total-=cost\n",
    "        stock_gain.append(cost)\n",
    "        stock_pcs.append(pcs)\n",
    "        if f'{count_years+i}-{today_month}' in df[df['編號']=='2356'].index:  ##2356\n",
    "            money_deposit=eval(df[df['編號']=='2356'].loc[f'{count_years+i}-{today_month}']['現金股利'][0])\n",
    "            get_deposit=sum(stock_pcs)*money_deposit\n",
    "            stock_money.append(get_deposit)\n",
    "            \n",
    "        today_month+=1\n",
    "        if k==11 and today_month<=13:\n",
    "            print('OK')\n",
    "            count_years-=1\n",
    "        #print(count_years)\n",
    "gain=round((stock['Close'][-1]*sum(stock_pcs))-sum(stock_gain),2)     \n",
    "#percent=round(gain/sum(stock_gain)*100,2)\n",
    "    \n",
    "  "
   ]
  },
  {
   "cell_type": "code",
   "execution_count": 92,
   "id": "075e9dfb",
   "metadata": {},
   "outputs": [
    {
     "data": {
      "text/plain": [
       "2"
      ]
     },
     "execution_count": 92,
     "metadata": {},
     "output_type": "execute_result"
    }
   ],
   "source": [
    "len(stock_money)"
   ]
  },
  {
   "cell_type": "code",
   "execution_count": 68,
   "id": "12f0ce15",
   "metadata": {},
   "outputs": [
    {
     "ename": "IndexError",
     "evalue": "index 0 is out of bounds for axis 0 with size 0",
     "output_type": "error",
     "traceback": [
      "\u001b[1;31m---------------------------------------------------------------------------\u001b[0m",
      "\u001b[1;31mIndexError\u001b[0m                                Traceback (most recent call last)",
      "\u001b[1;32m<ipython-input-68-8987fcfe945f>\u001b[0m in \u001b[0;36m<module>\u001b[1;34m\u001b[0m\n\u001b[1;32m----> 1\u001b[1;33m \u001b[0mstock\u001b[0m\u001b[1;33m.\u001b[0m\u001b[0mloc\u001b[0m\u001b[1;33m[\u001b[0m\u001b[1;34m'2022-2-5'\u001b[0m\u001b[1;33m:\u001b[0m\u001b[1;33m]\u001b[0m\u001b[1;33m[\u001b[0m\u001b[1;34m'Close'\u001b[0m\u001b[1;33m]\u001b[0m\u001b[1;33m[\u001b[0m\u001b[1;36m0\u001b[0m\u001b[1;33m]\u001b[0m\u001b[1;33m.\u001b[0m\u001b[0mround\u001b[0m\u001b[1;33m(\u001b[0m\u001b[1;36m2\u001b[0m\u001b[1;33m)\u001b[0m\u001b[1;33m\u001b[0m\u001b[1;33m\u001b[0m\u001b[0m\n\u001b[0m",
      "\u001b[1;32mC:\\ProgramData\\Anaconda3\\lib\\site-packages\\pandas\\core\\series.py\u001b[0m in \u001b[0;36m__getitem__\u001b[1;34m(self, key)\u001b[0m\n\u001b[0;32m    848\u001b[0m \u001b[1;33m\u001b[0m\u001b[0m\n\u001b[0;32m    849\u001b[0m         \u001b[1;32mif\u001b[0m \u001b[0mis_integer\u001b[0m\u001b[1;33m(\u001b[0m\u001b[0mkey\u001b[0m\u001b[1;33m)\u001b[0m \u001b[1;32mand\u001b[0m \u001b[0mself\u001b[0m\u001b[1;33m.\u001b[0m\u001b[0mindex\u001b[0m\u001b[1;33m.\u001b[0m\u001b[0m_should_fallback_to_positional\u001b[0m\u001b[1;33m(\u001b[0m\u001b[1;33m)\u001b[0m\u001b[1;33m:\u001b[0m\u001b[1;33m\u001b[0m\u001b[1;33m\u001b[0m\u001b[0m\n\u001b[1;32m--> 850\u001b[1;33m             \u001b[1;32mreturn\u001b[0m \u001b[0mself\u001b[0m\u001b[1;33m.\u001b[0m\u001b[0m_values\u001b[0m\u001b[1;33m[\u001b[0m\u001b[0mkey\u001b[0m\u001b[1;33m]\u001b[0m\u001b[1;33m\u001b[0m\u001b[1;33m\u001b[0m\u001b[0m\n\u001b[0m\u001b[0;32m    851\u001b[0m \u001b[1;33m\u001b[0m\u001b[0m\n\u001b[0;32m    852\u001b[0m         \u001b[1;32melif\u001b[0m \u001b[0mkey_is_scalar\u001b[0m\u001b[1;33m:\u001b[0m\u001b[1;33m\u001b[0m\u001b[1;33m\u001b[0m\u001b[0m\n",
      "\u001b[1;31mIndexError\u001b[0m: index 0 is out of bounds for axis 0 with size 0"
     ]
    }
   ],
   "source": [
    "stock.loc['2022-2-5':]['Close'][0].round(2)"
   ]
  },
  {
   "cell_type": "code",
   "execution_count": 19,
   "id": "01f95257",
   "metadata": {},
   "outputs": [
    {
     "data": {
      "text/plain": [
       "22.15"
      ]
     },
     "execution_count": 19,
     "metadata": {},
     "output_type": "execute_result"
    }
   ],
   "source": [
    "with sqlite3.connect('stock.db') as con:             \n",
    "    df=pd.read_sql_query('select * from \"deposit\"',con=con)         \n",
    "    stock=pd.read_sql_query(f'select * from \"2356\"',con=con)\n",
    "stock.index=pd.to_datetime(stock['date'])\n",
    "today_year=datetime.today().strftime('%Y-%m-%d')[0:4]\n",
    "today_month=int(datetime.today().strftime('%Y-%m-%d')[5:7])  ##今月\n",
    "count_years=int(today_year)-3   ##買進3年\n",
    "stock.loc[f'{count_years+0}-{today_month}-5':]['Close'][0].round(2)"
   ]
  },
  {
   "cell_type": "code",
   "execution_count": 21,
   "id": "aab2825b",
   "metadata": {},
   "outputs": [
    {
     "data": {
      "text/plain": [
       "date\n",
       "2019-01-07    22.150000\n",
       "2019-01-08    21.650000\n",
       "2019-01-09    21.950001\n",
       "2019-01-10    22.500000\n",
       "2019-01-11    22.600000\n",
       "                ...    \n",
       "2022-01-05    24.750000\n",
       "2022-01-06    25.100000\n",
       "2022-01-07    24.950001\n",
       "2022-01-10    25.450001\n",
       "2022-01-11    25.200001\n",
       "Name: Close, Length: 733, dtype: float64"
      ]
     },
     "execution_count": 21,
     "metadata": {},
     "output_type": "execute_result"
    }
   ],
   "source": [
    "stock.loc['2019-1-5':]['Close']"
   ]
  },
  {
   "cell_type": "code",
   "execution_count": null,
   "id": "4be9a58d",
   "metadata": {},
   "outputs": [],
   "source": []
  }
 ],
 "metadata": {
  "kernelspec": {
   "display_name": "Python 3",
   "language": "python",
   "name": "python3"
  },
  "language_info": {
   "codemirror_mode": {
    "name": "ipython",
    "version": 3
   },
   "file_extension": ".py",
   "mimetype": "text/x-python",
   "name": "python",
   "nbconvert_exporter": "python",
   "pygments_lexer": "ipython3",
   "version": "3.8.8"
  }
 },
 "nbformat": 4,
 "nbformat_minor": 5
}
